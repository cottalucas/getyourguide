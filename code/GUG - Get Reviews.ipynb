{
 "cells": [
  {
   "cell_type": "markdown",
   "metadata": {},
   "source": [
    "# Get Reviews - Find common clients complains"
   ]
  },
  {
   "cell_type": "code",
   "execution_count": 94,
   "metadata": {
    "collapsed": true
   },
   "outputs": [],
   "source": [
    "import feedparser\n",
    "import pandas as pd\n",
    "from bs4 import BeautifulSoup\n",
    "import matplotlib.pyplot as plt\n",
    "import re\n",
    "import string\n",
    "\n",
    "import nltk\n",
    "from sklearn.feature_extraction.text import TfidfVectorizer\n",
    "from nltk import word_tokenize\n",
    "from nltk.corpus import stopwords \n",
    "\n",
    "\n",
    "stop_words = set(stopwords.words('english'))\n",
    "additional_words = ['i','on','t', 'a', 've', 'been', 'is', 'are', 'we', 'were', 'was', 'at', 'android', 'downloaded', 'palatine']\n",
    "new_stopwords = stop_words.union(additional_words)\n",
    "new_stopwords.remove('can')\n",
    "\n",
    "%matplotlib inline"
   ]
  },
  {
   "cell_type": "markdown",
   "metadata": {},
   "source": [
    "### Apple Store"
   ]
  },
  {
   "cell_type": "code",
   "execution_count": 95,
   "metadata": {
    "collapsed": true
   },
   "outputs": [],
   "source": [
    "url = 'https://itunes.apple.com/gb/rss/customerreviews/id=705079381/sortBy=mostRecent/xml'\n",
    "\n",
    "rss = feedparser.parse(url)"
   ]
  },
  {
   "cell_type": "code",
   "execution_count": 96,
   "metadata": {
    "collapsed": true
   },
   "outputs": [],
   "source": [
    "totalReviews = len(rss.entries)\n",
    "\n",
    "full_content = [rss.entries[nReviews]['content'] for nReviews in range(totalReviews)]\n",
    "content_apple = [full_content[nReviews][0].value.replace(\"   Full Review\",\"\").replace(\"'\", \"\").lower() for nReviews in range(totalReviews)]\n",
    "\n",
    "rating_apple = [int(rss.entries[nReviews]['im_rating']) for nReviews in range(totalReviews)]\n",
    "\n",
    "platform_apple = [\"iOS\" for platform in range(len(content_apple))]"
   ]
  },
  {
   "cell_type": "markdown",
   "metadata": {},
   "source": [
    "### Google Play Store"
   ]
  },
  {
   "cell_type": "code",
   "execution_count": 97,
   "metadata": {},
   "outputs": [
    {
     "name": "stdout",
     "output_type": "stream",
     "text": [
      "GUG - Get Reviews.ipynb               config.pyc\r\n",
      "com.getyourguide.android_decoded.html getReviews.py\r\n",
      "config.py\r\n"
     ]
    }
   ],
   "source": [
    "!ls"
   ]
  },
  {
   "cell_type": "code",
   "execution_count": 98,
   "metadata": {
    "collapsed": true
   },
   "outputs": [],
   "source": [
    "soup = BeautifulSoup(open('com.getyourguide.android_decoded.html'), 'html.parser')"
   ]
  },
  {
   "cell_type": "code",
   "execution_count": 99,
   "metadata": {
    "collapsed": true
   },
   "outputs": [],
   "source": [
    "full_rating = soup.find_all(attrs={'class':'tiny-star star-rating-non-editable-container'})\n",
    "rating_with_text = [rating['aria-label'] for rating in full_rating]\n",
    "rating_google = [int(rating.split()[1]) for rating in rating_with_text]\n",
    "\n",
    "\n",
    "full_content = soup.find_all(attrs={'class':'review-body with-review-wrapper'})\n",
    "content_google = [content.get_text().strip().replace(\"   Full Review\",\"\").replace(\"'\", \"\").lower() for content in full_content]\n",
    "\n",
    "platform_google = [\"Android\" for platform in range(len(content_google))]"
   ]
  },
  {
   "cell_type": "markdown",
   "metadata": {},
   "source": [
    "### Total Reviews"
   ]
  },
  {
   "cell_type": "code",
   "execution_count": 100,
   "metadata": {
    "collapsed": true
   },
   "outputs": [],
   "source": [
    "final_rating = rating_google\n",
    "final_rating.extend(rating_apple)\n",
    "\n",
    "\n",
    "final_content = content_google\n",
    "final_content.extend(content_apple)\n",
    "\n",
    "final_platform = platform_google\n",
    "final_platform.extend(platform_apple)\n",
    "\n",
    "\n",
    "fullList = {'Content':final_content, 'Rating': final_rating, 'Platform': final_platform}"
   ]
  },
  {
   "cell_type": "code",
   "execution_count": 101,
   "metadata": {
    "collapsed": true
   },
   "outputs": [],
   "source": [
    "df = pd.DataFrame(fullList, columns=['Content', 'Rating', 'Platform'])"
   ]
  },
  {
   "cell_type": "code",
   "execution_count": 102,
   "metadata": {
    "collapsed": true,
    "scrolled": true
   },
   "outputs": [],
   "source": [
    "df_bad_reviews = df[df.Rating<=2]"
   ]
  },
  {
   "cell_type": "code",
   "execution_count": 103,
   "metadata": {},
   "outputs": [
    {
     "data": {
      "text/plain": [
       "<matplotlib.axes._subplots.AxesSubplot at 0x11df1bef0>"
      ]
     },
     "execution_count": 103,
     "metadata": {},
     "output_type": "execute_result"
    },
    {
     "data": {
      "image/png": "[encoded data removed]",
      "text/plain": [
       "<matplotlib.figure.Figure at 0x11df1b080>"
      ]
     },
     "metadata": {},
     "output_type": "display_data"
    }
   ],
   "source": [
    "df.groupby('Platform').agg({'Rating':'mean'}).plot(kind='bar')"
   ]
  },
  {
   "cell_type": "markdown",
   "metadata": {},
   "source": [
    "#### BOW for general and lower rating reviews - Simplistic sentiment analysis"
   ]
  },
  {
   "cell_type": "code",
   "execution_count": 104,
   "metadata": {
    "collapsed": true
   },
   "outputs": [],
   "source": [
    "used_df = df_bad_reviews\n",
    "#used_df = df\n",
    "\n",
    "sentences = [content for content in used_df.Content] "
   ]
  },
  {
   "cell_type": "code",
   "execution_count": 105,
   "metadata": {
    "collapsed": true
   },
   "outputs": [],
   "source": [
    "def generate_ngrams(s, n):\n",
    "    s = s.lower()\n",
    "    s = re.sub(r'[^a-zA-Z0-9\\s]', ' ', s)\n",
    "    token = [token for token in s.split(\" \") if token != \"\"]\n",
    "\n",
    "    \n",
    "    ngrams = zip(*[token[i:] for i in range(n)])\n",
    "    return [\" \".join(ngram) for ngram in ngrams]"
   ]
  },
  {
   "cell_type": "code",
   "execution_count": 106,
   "metadata": {
    "collapsed": true
   },
   "outputs": [],
   "source": [
    "# Filter non relevant words and lowercasing\n",
    "filtered_sentences = []\n",
    "\n",
    "for x in range(len(sentences)):\n",
    "    word_tokens = sentences[x].split()\n",
    "    filtered_sentences.append(\" \".join(filter(lambda x: x not in (new_stopwords or string.punctuation), word_tokens)).lower())"
   ]
  },
  {
   "cell_type": "code",
   "execution_count": 107,
   "metadata": {
    "collapsed": true
   },
   "outputs": [],
   "source": [
    "# Buid dict with occurences into a dataframe\n",
    "final_tokens = []\n",
    "for i in range(len(filtered_sentences)):\n",
    "    final_tokens.extend(generate_ngrams(filtered_sentences[i], 3))\n",
    "\n",
    "word_dict = dict.fromkeys(final_tokens, 0)\n",
    "\n",
    "for word in final_tokens:\n",
    "    word_dict[word]+=1"
   ]
  },
  {
   "cell_type": "code",
   "execution_count": 108,
   "metadata": {
    "collapsed": true
   },
   "outputs": [],
   "source": [
    "# Comput TF & IDF\n",
    "def computeTF(wordDict, bow):\n",
    "    tfDict = {}\n",
    "    bowCount = len(bow)\n",
    "    for word, count in wordDict.items():\n",
    "        tfDict[word] = count/float(bowCount)\n",
    "    return tfDict\n",
    "\n",
    "tf = computeTF(word_dict, final_tokens)\n",
    "\n",
    "def computeIDF(docList):\n",
    "    import math\n",
    "    idfDict = {}\n",
    "    N = len(docList)\n",
    "    \n",
    "    idfDict = dict.fromkeys(docList[0].keys(), 0)\n",
    "    for doc in docList:\n",
    "        for word, val in doc.items():\n",
    "            if val > 0:\n",
    "                idfDict[word] += 1\n",
    "    \n",
    "    for word, val in idfDict.items():\n",
    "        idfDict[word] = math.log10(N / float(val))\n",
    "        \n",
    "    return idfDict\n",
    "\n",
    "idf = computeIDF([word_dict])\n",
    "\n",
    "def computeTFIDF(tfBow, idfs):\n",
    "    tfidf = {}\n",
    "    for word, val in tfBow.items():\n",
    "        tfidf[word] = val*idfs[word]\n",
    "    return tfidf\n",
    "\n",
    "tf_idf = computeTFIDF(tf, idf)"
   ]
  },
  {
   "cell_type": "markdown",
   "metadata": {},
   "source": [
    "#### Lets analyze only TF for simplification"
   ]
  },
  {
   "cell_type": "code",
   "execution_count": 109,
   "metadata": {
    "collapsed": true
   },
   "outputs": [],
   "source": [
    "tf_df = pd.DataFrame([tf])"
   ]
  },
  {
   "cell_type": "code",
   "execution_count": 110,
   "metadata": {
    "collapsed": true
   },
   "outputs": [],
   "source": [
    "tf_df_transposed = tf_df.T\n",
    "tf_df_transposed.reset_index(inplace=True)\n",
    "tf_df_transposed.columns = ['words', 'score']"
   ]
  },
  {
   "cell_type": "code",
   "execution_count": 111,
   "metadata": {
    "scrolled": true
   },
   "outputs": [
    {
     "data": {
      "text/html": [
       "<div>\n",
       "<style>\n",
       "    .dataframe thead tr:only-child th {\n",
       "        text-align: right;\n",
       "    }\n",
       "\n",
       "    .dataframe thead th {\n",
       "        text-align: left;\n",
       "    }\n",
       "\n",
       "    .dataframe tbody tr th {\n",
       "        vertical-align: top;\n",
       "    }\n",
       "</style>\n",
       "<table border=\"1\" class=\"dataframe\">\n",
       "  <thead>\n",
       "    <tr style=\"text-align: right;\">\n",
       "      <th></th>\n",
       "      <th>words</th>\n",
       "      <th>score</th>\n",
       "    </tr>\n",
       "  </thead>\n",
       "  <tbody>\n",
       "    <tr>\n",
       "      <th>1629</th>\n",
       "      <td>guide never showed</td>\n",
       "      <td>0.000762</td>\n",
       "    </tr>\n",
       "    <tr>\n",
       "      <th>3831</th>\n",
       "      <td>worst customer service</td>\n",
       "      <td>0.000762</td>\n",
       "    </tr>\n",
       "    <tr>\n",
       "      <th>305</th>\n",
       "      <td>app looks ok</td>\n",
       "      <td>0.000508</td>\n",
       "    </tr>\n",
       "    <tr>\n",
       "      <th>292</th>\n",
       "      <td>app get tickets</td>\n",
       "      <td>0.000508</td>\n",
       "    </tr>\n",
       "    <tr>\n",
       "      <th>1986</th>\n",
       "      <td>looks ok im</td>\n",
       "      <td>0.000508</td>\n",
       "    </tr>\n",
       "    <tr>\n",
       "      <th>837</th>\n",
       "      <td>connection relying show</td>\n",
       "      <td>0.000508</td>\n",
       "    </tr>\n",
       "    <tr>\n",
       "      <th>2707</th>\n",
       "      <td>relying show vouchers</td>\n",
       "      <td>0.000508</td>\n",
       "    </tr>\n",
       "    <tr>\n",
       "      <th>835</th>\n",
       "      <td>confirming itinerary trips</td>\n",
       "      <td>0.000508</td>\n",
       "    </tr>\n",
       "    <tr>\n",
       "      <th>2077</th>\n",
       "      <td>might internet connection</td>\n",
       "      <td>0.000508</td>\n",
       "    </tr>\n",
       "    <tr>\n",
       "      <th>875</th>\n",
       "      <td>couldnt even find</td>\n",
       "      <td>0.000508</td>\n",
       "    </tr>\n",
       "    <tr>\n",
       "      <th>1838</th>\n",
       "      <td>itinerary trips guess</td>\n",
       "      <td>0.000508</td>\n",
       "    </tr>\n",
       "    <tr>\n",
       "      <th>240</th>\n",
       "      <td>also never received</td>\n",
       "      <td>0.000508</td>\n",
       "    </tr>\n",
       "    <tr>\n",
       "      <th>2980</th>\n",
       "      <td>show vouchers really</td>\n",
       "      <td>0.000508</td>\n",
       "    </tr>\n",
       "    <tr>\n",
       "      <th>691</th>\n",
       "      <td>cant retrieve bookings</td>\n",
       "      <td>0.000508</td>\n",
       "    </tr>\n",
       "    <tr>\n",
       "      <th>1757</th>\n",
       "      <td>im traveling might</td>\n",
       "      <td>0.000508</td>\n",
       "    </tr>\n",
       "    <tr>\n",
       "      <th>3487</th>\n",
       "      <td>traveling might internet</td>\n",
       "      <td>0.000508</td>\n",
       "    </tr>\n",
       "    <tr>\n",
       "      <th>2872</th>\n",
       "      <td>screen running dog</td>\n",
       "      <td>0.000508</td>\n",
       "    </tr>\n",
       "    <tr>\n",
       "      <th>780</th>\n",
       "      <td>colosseum fori romani</td>\n",
       "      <td>0.000508</td>\n",
       "    </tr>\n",
       "    <tr>\n",
       "      <th>3675</th>\n",
       "      <td>via app also</td>\n",
       "      <td>0.000508</td>\n",
       "    </tr>\n",
       "    <tr>\n",
       "      <th>3711</th>\n",
       "      <td>vouchers really unhelpful</td>\n",
       "      <td>0.000508</td>\n",
       "    </tr>\n",
       "    <tr>\n",
       "      <th>117</th>\n",
       "      <td>6 0 1</td>\n",
       "      <td>0.000508</td>\n",
       "    </tr>\n",
       "    <tr>\n",
       "      <th>3422</th>\n",
       "      <td>tour company never</td>\n",
       "      <td>0.000508</td>\n",
       "    </tr>\n",
       "    <tr>\n",
       "      <th>1612</th>\n",
       "      <td>guess work included</td>\n",
       "      <td>0.000508</td>\n",
       "    </tr>\n",
       "    <tr>\n",
       "      <th>2955</th>\n",
       "      <td>service works trips</td>\n",
       "      <td>0.000508</td>\n",
       "    </tr>\n",
       "    <tr>\n",
       "      <th>1735</th>\n",
       "      <td>i d booked</td>\n",
       "      <td>0.000508</td>\n",
       "    </tr>\n",
       "    <tr>\n",
       "      <th>577</th>\n",
       "      <td>bookings booking service</td>\n",
       "      <td>0.000508</td>\n",
       "    </tr>\n",
       "    <tr>\n",
       "      <th>3681</th>\n",
       "      <td>view via app</td>\n",
       "      <td>0.000508</td>\n",
       "    </tr>\n",
       "    <tr>\n",
       "      <th>569</th>\n",
       "      <td>booking service works</td>\n",
       "      <td>0.000508</td>\n",
       "    </tr>\n",
       "    <tr>\n",
       "      <th>2195</th>\n",
       "      <td>never received detail</td>\n",
       "      <td>0.000508</td>\n",
       "    </tr>\n",
       "    <tr>\n",
       "      <th>2274</th>\n",
       "      <td>ok im traveling</td>\n",
       "      <td>0.000508</td>\n",
       "    </tr>\n",
       "    <tr>\n",
       "      <th>...</th>\n",
       "      <td>...</td>\n",
       "      <td>...</td>\n",
       "    </tr>\n",
       "    <tr>\n",
       "      <th>1313</th>\n",
       "      <td>expect sympathetic helper</td>\n",
       "      <td>0.000254</td>\n",
       "    </tr>\n",
       "    <tr>\n",
       "      <th>1285</th>\n",
       "      <td>ever life choose</td>\n",
       "      <td>0.000254</td>\n",
       "    </tr>\n",
       "    <tr>\n",
       "      <th>1298</th>\n",
       "      <td>example 13 per</td>\n",
       "      <td>0.000254</td>\n",
       "    </tr>\n",
       "    <tr>\n",
       "      <th>1286</th>\n",
       "      <td>every detail ruins</td>\n",
       "      <td>0.000254</td>\n",
       "    </tr>\n",
       "    <tr>\n",
       "      <th>1287</th>\n",
       "      <td>every event ive</td>\n",
       "      <td>0.000254</td>\n",
       "    </tr>\n",
       "    <tr>\n",
       "      <th>1288</th>\n",
       "      <td>every time error</td>\n",
       "      <td>0.000254</td>\n",
       "    </tr>\n",
       "    <tr>\n",
       "      <th>1289</th>\n",
       "      <td>every time iphone</td>\n",
       "      <td>0.000254</td>\n",
       "    </tr>\n",
       "    <tr>\n",
       "      <th>1290</th>\n",
       "      <td>every time try</td>\n",
       "      <td>0.000254</td>\n",
       "    </tr>\n",
       "    <tr>\n",
       "      <th>1291</th>\n",
       "      <td>every trip never</td>\n",
       "      <td>0.000254</td>\n",
       "    </tr>\n",
       "    <tr>\n",
       "      <th>1292</th>\n",
       "      <td>everyone always visits</td>\n",
       "      <td>0.000254</td>\n",
       "    </tr>\n",
       "    <tr>\n",
       "      <th>1293</th>\n",
       "      <td>everyone behind line</td>\n",
       "      <td>0.000254</td>\n",
       "    </tr>\n",
       "    <tr>\n",
       "      <th>1294</th>\n",
       "      <td>everyone far away</td>\n",
       "      <td>0.000254</td>\n",
       "    </tr>\n",
       "    <tr>\n",
       "      <th>1295</th>\n",
       "      <td>everything free queue</td>\n",
       "      <td>0.000254</td>\n",
       "    </tr>\n",
       "    <tr>\n",
       "      <th>1296</th>\n",
       "      <td>everything land marrakesh</td>\n",
       "      <td>0.000254</td>\n",
       "    </tr>\n",
       "    <tr>\n",
       "      <th>1297</th>\n",
       "      <td>exactly same one</td>\n",
       "      <td>0.000254</td>\n",
       "    </tr>\n",
       "    <tr>\n",
       "      <th>1299</th>\n",
       "      <td>example supposed private</td>\n",
       "      <td>0.000254</td>\n",
       "    </tr>\n",
       "    <tr>\n",
       "      <th>1312</th>\n",
       "      <td>existing bookings looks</td>\n",
       "      <td>0.000254</td>\n",
       "    </tr>\n",
       "    <tr>\n",
       "      <th>1300</th>\n",
       "      <td>except mine i</td>\n",
       "      <td>0.000254</td>\n",
       "    </tr>\n",
       "    <tr>\n",
       "      <th>1301</th>\n",
       "      <td>exceptb tried see</td>\n",
       "      <td>0.000254</td>\n",
       "    </tr>\n",
       "    <tr>\n",
       "      <th>1302</th>\n",
       "      <td>excesivos en general</td>\n",
       "      <td>0.000254</td>\n",
       "    </tr>\n",
       "    <tr>\n",
       "      <th>1303</th>\n",
       "      <td>excited see learn</td>\n",
       "      <td>0.000254</td>\n",
       "    </tr>\n",
       "    <tr>\n",
       "      <th>1304</th>\n",
       "      <td>excursion booked late</td>\n",
       "      <td>0.000254</td>\n",
       "    </tr>\n",
       "    <tr>\n",
       "      <th>1305</th>\n",
       "      <td>excursion got email</td>\n",
       "      <td>0.000254</td>\n",
       "    </tr>\n",
       "    <tr>\n",
       "      <th>1306</th>\n",
       "      <td>excursion never got</td>\n",
       "      <td>0.000254</td>\n",
       "    </tr>\n",
       "    <tr>\n",
       "      <th>1307</th>\n",
       "      <td>excursion something booked</td>\n",
       "      <td>0.000254</td>\n",
       "    </tr>\n",
       "    <tr>\n",
       "      <th>1308</th>\n",
       "      <td>excursion wasn t</td>\n",
       "      <td>0.000254</td>\n",
       "    </tr>\n",
       "    <tr>\n",
       "      <th>1309</th>\n",
       "      <td>excursions app neither</td>\n",
       "      <td>0.000254</td>\n",
       "    </tr>\n",
       "    <tr>\n",
       "      <th>1310</th>\n",
       "      <td>excursions fully booked</td>\n",
       "      <td>0.000254</td>\n",
       "    </tr>\n",
       "    <tr>\n",
       "      <th>1311</th>\n",
       "      <td>exist never refunded</td>\n",
       "      <td>0.000254</td>\n",
       "    </tr>\n",
       "    <tr>\n",
       "      <th>3884</th>\n",
       "      <td>zero every time</td>\n",
       "      <td>0.000254</td>\n",
       "    </tr>\n",
       "  </tbody>\n",
       "</table>\n",
       "<p>3885 rows × 2 columns</p>\n",
       "</div>"
      ],
      "text/plain": [
       "                           words     score\n",
       "1629          guide never showed  0.000762\n",
       "3831      worst customer service  0.000762\n",
       "305                 app looks ok  0.000508\n",
       "292              app get tickets  0.000508\n",
       "1986                 looks ok im  0.000508\n",
       "837      connection relying show  0.000508\n",
       "2707       relying show vouchers  0.000508\n",
       "835   confirming itinerary trips  0.000508\n",
       "2077   might internet connection  0.000508\n",
       "875            couldnt even find  0.000508\n",
       "1838       itinerary trips guess  0.000508\n",
       "240          also never received  0.000508\n",
       "2980        show vouchers really  0.000508\n",
       "691       cant retrieve bookings  0.000508\n",
       "1757          im traveling might  0.000508\n",
       "3487    traveling might internet  0.000508\n",
       "2872          screen running dog  0.000508\n",
       "780        colosseum fori romani  0.000508\n",
       "3675                via app also  0.000508\n",
       "3711   vouchers really unhelpful  0.000508\n",
       "117                        6 0 1  0.000508\n",
       "3422          tour company never  0.000508\n",
       "1612         guess work included  0.000508\n",
       "2955         service works trips  0.000508\n",
       "1735                  i d booked  0.000508\n",
       "577     bookings booking service  0.000508\n",
       "3681                view via app  0.000508\n",
       "569        booking service works  0.000508\n",
       "2195       never received detail  0.000508\n",
       "2274             ok im traveling  0.000508\n",
       "...                          ...       ...\n",
       "1313   expect sympathetic helper  0.000254\n",
       "1285            ever life choose  0.000254\n",
       "1298              example 13 per  0.000254\n",
       "1286          every detail ruins  0.000254\n",
       "1287             every event ive  0.000254\n",
       "1288            every time error  0.000254\n",
       "1289           every time iphone  0.000254\n",
       "1290              every time try  0.000254\n",
       "1291            every trip never  0.000254\n",
       "1292      everyone always visits  0.000254\n",
       "1293        everyone behind line  0.000254\n",
       "1294           everyone far away  0.000254\n",
       "1295       everything free queue  0.000254\n",
       "1296   everything land marrakesh  0.000254\n",
       "1297            exactly same one  0.000254\n",
       "1299    example supposed private  0.000254\n",
       "1312     existing bookings looks  0.000254\n",
       "1300               except mine i  0.000254\n",
       "1301           exceptb tried see  0.000254\n",
       "1302        excesivos en general  0.000254\n",
       "1303           excited see learn  0.000254\n",
       "1304       excursion booked late  0.000254\n",
       "1305         excursion got email  0.000254\n",
       "1306         excursion never got  0.000254\n",
       "1307  excursion something booked  0.000254\n",
       "1308            excursion wasn t  0.000254\n",
       "1309      excursions app neither  0.000254\n",
       "1310     excursions fully booked  0.000254\n",
       "1311        exist never refunded  0.000254\n",
       "3884             zero every time  0.000254\n",
       "\n",
       "[3885 rows x 2 columns]"
      ]
     },
     "execution_count": 111,
     "metadata": {},
     "output_type": "execute_result"
    }
   ],
   "source": [
    "tf_df_transposed.sort_values(by=['score'], ascending=False)"
   ]
  },
  {
   "cell_type": "code",
   "execution_count": 112,
   "metadata": {},
   "outputs": [
    {
     "data": {
      "text/plain": [
       "0      the prices are much higher than the actual pri...\n",
       "5      you simply cannot change the e-mail address if...\n",
       "17                            doesnt download my tickets\n",
       "36     feedback application bugged, spamming with not...\n",
       "49     if have - stars i will give it..... confirm my...\n",
       "79          only gbp currency, u cannot change to othera\n",
       "81                                         a descent app\n",
       "85     had a sucessful purchase. 2nd purchase had a 2...\n",
       "86     my booking before i purchased said audio guide...\n",
       "89     awful. i had prepaid tics with all info on my ...\n",
       "95                                worst experience ever.\n",
       "141    tried to make booking, but the payment page on...\n",
       "143    total scam! tour bus did not show up, and they...\n",
       "166    non comprate biglietti da questa app. vi consi...\n",
       "175    the guide never showed up to take my mom and h...\n",
       "177    scam tour companies use this app/website to ri...\n",
       "179    short version - do not trust these shysters wi...\n",
       "180    frod! i bought tickets for peterhof grand pala...\n",
       "181    poor app, tried to book transfer from marco po...\n",
       "183    they ruined my day and my mood. i booked a tic...\n",
       "185    tour was cancelled by guide due to weather...n...\n",
       "186    i got scammed off a tour to the colosseum. the...\n",
       "193    paid for tour andto get to train train tickets...\n",
       "202    none of my bookings appear in the app. ive dow...\n",
       "210    keep asking to update something that has been ...\n",
       "225    dont seem able to edit my review. find, on clo...\n",
       "226    bought tickets to see notre dame tour of the c...\n",
       "227    the app looks ok, but when im traveling i migh...\n",
       "228    get your guide is a rip off bought tickets for...\n",
       "231    latest update continues to say i have no inter...\n",
       "                             ...                        \n",
       "904                                  i didnt like it bad\n",
       "905    ive downloaded the app but its useless. it won...\n",
       "906    it wont download and i cant get my voucher. i ...\n",
       "908    what 4 letter word starts with c & ends with p...\n",
       "911    did book a tickets for vatican museum, sistine...\n",
       "913    lies & false advertising booked and paid for s...\n",
       "916    expensive tickets that are extremely difficult...\n",
       "920                            wont install stops at 94%\n",
       "948    it was quite a while since the last time i hav...\n",
       "950    if i could give this app 0 stars i would. abso...\n",
       "952    i used getyourguide finding the app through go...\n",
       "957    the worst tour i had ever have. the tour guide...\n",
       "959    be very careful with this app. get your guide ...\n",
       "961    good for booking trips but useless for what it...\n",
       "962    we booked for our art science museum tickets 2...\n",
       "963    this app service was an utter let down. i have...\n",
       "965    beware reviews are highest ranking first. ther...\n",
       "966    i tried several times to upload the ticket to ...\n",
       "967    i visited marrakesh last week and i am extreme...\n",
       "969    i booked for 11:30am but had received a messag...\n",
       "970    we made two bookings in for our once in a life...\n",
       "971    bought a 3 day lisbon card... not until the vo...\n",
       "978    this was the biggest waste of money the app do...\n",
       "982    in rome i booked an expensive food tasting tou...\n",
       "984    if you look on the app, then on the actual web...\n",
       "989    booked months ago, took complete payment (even...\n",
       "991    get your guide booked and took money for an ex...\n",
       "992    my partner made bookings for the van gough mus...\n",
       "994    down loaded this app after making on line purc...\n",
       "996    whenever you quit the app the phone brightness...\n",
       "Name: Content, Length: 173, dtype: object"
      ]
     },
     "execution_count": 112,
     "metadata": {},
     "output_type": "execute_result"
    }
   ],
   "source": [
    "df_bad_reviews.Content"
   ]
  },
  {
   "cell_type": "code",
   "execution_count": null,
   "metadata": {
    "collapsed": true
   },
   "outputs": [],
   "source": []
  }
 ],
 "metadata": {
  "kernelspec": {
   "display_name": "Python 3",
   "language": "python",
   "name": "python3"
  },
  "language_info": {
   "codemirror_mode": {
    "name": "ipython",
    "version": 3
   },
   "file_extension": ".py",
   "mimetype": "text/x-python",
   "name": "python",
   "nbconvert_exporter": "python",
   "pygments_lexer": "ipython3",
   "version": "3.6.1"
  }
 },
 "nbformat": 4,
 "nbformat_minor": 2
}
